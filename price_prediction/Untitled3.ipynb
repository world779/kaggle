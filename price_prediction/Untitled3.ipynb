{
 "cells": [
  {
   "cell_type": "code",
   "execution_count": 81,
   "metadata": {},
   "outputs": [],
   "source": [
    "# ライブラリの読み込み\n",
    "import os\n",
    "import scipy as sp\n",
    "import numpy as np\n",
    "import sklearn\n",
    "import pandas as pd\n",
    "import matplotlib.pyplot as plt\n",
    "import seaborn as sns\n",
    "import matplotlib.pyplot as plt\n",
    "from sklearn.linear_model import LinearRegression\n",
    "# グラフをインラインで表示させる\n",
    "%matplotlib inline"
   ]
  },
  {
   "cell_type": "code",
   "execution_count": 124,
   "metadata": {},
   "outputs": [],
   "source": [
    "def preprocess_res(train_flg):\n",
    "    # train set の場合の処理\n",
    "    if train_flg:\n",
    "        df=pd.read_csv('./train_set.csv')\n",
    "        df.drop(df[df['SOURCE']=='Condominium'].index,inplace=True)\n",
    "        df.drop(df[df['PRICE']>=40000000].index,inplace=True)\n",
    "        df.drop(df[df['YR_RMDL']<=100].index,inplace=True)\n",
    "        df_y = df['PRICE']\n",
    "    else:\n",
    "        df=pd.read_csv('./test_set.csv')\n",
    "        df.drop(df[df['SOURCE']=='Condominium'].index,inplace=True)\n",
    "    # 使う変数を定義\n",
    "    cols = ['CENSUS_TRACT','YR_RMDL','ROOMS','AC','FIREPLACES','GBA']\n",
    "    \n",
    "    df_x = df.loc[:,cols]\n",
    "    #欠損値　-> 'NA'　に変換\n",
    "    #df_x.loc[df_x['ZIPCODE'].isnull()==True,'ZIPCODE']=df_x['ZIPCODE'].median()\n",
    "    #df_x.loc[df_x['ROOMS'].isnull()==True,'ROOMS']=df_x['ROOMS'].median()\n",
    "    #df_x.loc[df_x['GRADE'].isnull()==True,'GRADE']='Average'\n",
    "    df_x.loc[df_x['YR_RMDL'].isnull()==True,'YR_RMDL']=df_x['YR_RMDL'].median()\n",
    "    df_x.loc[df_x['GBA'].isnull()==True,'GBA']=df_x['GBA'].median()\n",
    "    #df_x.drop(df_x.columns[np.isnan(df_x).any()], axis=1)\n",
    "    # dummy\n",
    "    df_x=pd.get_dummies(df_x)\n",
    "    # train set の場合のoutput\n",
    "    if train_flg:\n",
    "        return df_x,df_y\n",
    "    # test set の場合のoutput、kaggleへ提出するファイルの規定により、idも一緒に出力する\n",
    "    else:\n",
    "        return df_x,df['Id']"
   ]
  },
  {
   "cell_type": "code",
   "execution_count": 125,
   "metadata": {},
   "outputs": [],
   "source": [
    "def preprocess_con(train_flg):\n",
    "    # train set の場合の処理\n",
    "    if train_flg:\n",
    "        df=pd.read_csv('./train_set.csv')\n",
    "        df.drop(df[df['SOURCE']=='Residential'].index,inplace=True)\n",
    "        df.drop(df[df['PRICE']>=40000000].index,inplace=True)\n",
    "        df.drop(df[df['YR_RMDL']<=100].index,inplace=True)\n",
    "        df_y = df['PRICE']\n",
    "    else:\n",
    "        df=pd.read_csv('./test_set.csv')\n",
    "        df.drop(df[df['SOURCE']=='Residential'].index,inplace=True)\n",
    "    \n",
    "    # 使う変数を定義\n",
    "    cols = ['CENSUS_TRACT','ROOMS','AC','EYB','FIREPLACES','LIVING_GBA']\n",
    "    \n",
    "    df_x = df.loc[:,cols]\n",
    "    #欠損値　-> 'NA'　に変換\n",
    "    #df_x.loc[df_x['ZIPCODE'].isnull()==True,'ZIPCODE']=df_x['ZIPCODE'].median()\n",
    "    #df_x.loc[df_x['ROOMS'].isnull()==True,'ROOMS']=df_x['ROOMS'].median()\n",
    "    #df_x.loc[df_x['GBA'].isnull()==True,'GBA']=df_x['GBA'].median()\n",
    "    #df_x.drop(df_x.columns[np.isnan(df_x).any()], axis=1)\n",
    "    #df_x.loc[df_x['AYB'].isnull()==True,'AYB']=df_x['AYB'].median()\n",
    "    df_x.loc[df_x['LIVING_GBA'].isnull()==True,'LIVING_GBA']=df_x['LIVING_GBA'].median()\n",
    "    #df_x.loc[df_x['COMPLEX_NUMBER'].isnull()==True,'COMPLEX_NUMBER']=df_x['COMPLEX_NUMBER'].median() \n",
    "    # dummy\n",
    "    df_x=pd.get_dummies(df_x)\n",
    "    # train set の場合のoutput\n",
    "    if train_flg:\n",
    "        return df_x,df_y\n",
    "    # test set の場合のoutput、kaggleへ提出するファイルの規定により、idも一緒に出力する\n",
    "    else:\n",
    "        return df_x,df['Id']"
   ]
  },
  {
   "cell_type": "code",
   "execution_count": null,
   "metadata": {},
   "outputs": [],
   "source": []
  },
  {
   "cell_type": "code",
   "execution_count": 126,
   "metadata": {},
   "outputs": [
    {
     "name": "stderr",
     "output_type": "stream",
     "text": [
      "C:\\Users\\world\\Anaconda3\\lib\\site-packages\\IPython\\core\\interactiveshell.py:3248: DtypeWarning: Columns (17,18,19,20,21,22,23,32,33,34,36,42,44) have mixed types. Specify dtype option on import or set low_memory=False.\n",
      "  if (await self.run_code(code, result,  async_=asy)):\n"
     ]
    },
    {
     "data": {
      "text/plain": [
       "462674.70363457635"
      ]
     },
     "execution_count": 126,
     "metadata": {},
     "output_type": "execute_result"
    }
   ],
   "source": [
    "# train set RESIDENTIAL\n",
    "clf_res =LinearRegression()\n",
    "# 前処理の統合変数を使う\n",
    "df_x,df_y = preprocess_res(train_flg=True)\n",
    "\n",
    "from sklearn.metrics import mean_squared_error\n",
    "def rmse(y_true, y_pred):\n",
    "    return np.sqrt(mean_squared_error(y_true, y_pred))\n",
    "\n",
    "# linear regressionで検証\n",
    "clf_res.fit(df_x, df_y)\n",
    "rmse(clf_res.predict(df_x),df_y)"
   ]
  },
  {
   "cell_type": "code",
   "execution_count": 127,
   "metadata": {},
   "outputs": [
    {
     "name": "stderr",
     "output_type": "stream",
     "text": [
      "C:\\Users\\world\\Anaconda3\\lib\\site-packages\\IPython\\core\\interactiveshell.py:3248: DtypeWarning: Columns (17,18,19,20,21,22,23,32,33,34,36,42,44) have mixed types. Specify dtype option on import or set low_memory=False.\n",
      "  if (await self.run_code(code, result,  async_=asy)):\n"
     ]
    },
    {
     "data": {
      "text/plain": [
       "664687.2665700568"
      ]
     },
     "execution_count": 127,
     "metadata": {},
     "output_type": "execute_result"
    }
   ],
   "source": [
    "# train set CONDMINIUM\n",
    "clf_con =LinearRegression()\n",
    "# 前処理の統合変数を使う\n",
    "df_x,df_y = preprocess_con(train_flg=True)\n",
    "\n",
    "from sklearn.metrics import mean_squared_error\n",
    "def rmse(y_true, y_pred):\n",
    "    return np.sqrt(mean_squared_error(y_true, y_pred))\n",
    "\n",
    "# linear regressionで検証\n",
    "clf_con.fit(df_x, df_y)\n",
    "rmse(clf_con.predict(df_x),df_y)"
   ]
  },
  {
   "cell_type": "code",
   "execution_count": 128,
   "metadata": {
    "scrolled": true
   },
   "outputs": [
    {
     "name": "stderr",
     "output_type": "stream",
     "text": [
      "C:\\Users\\world\\Anaconda3\\lib\\site-packages\\IPython\\core\\interactiveshell.py:3248: DtypeWarning: Columns (17,18,19,20,21,22,23,32,33,34,36,42,44) have mixed types. Specify dtype option on import or set low_memory=False.\n",
      "  if (await self.run_code(code, result,  async_=asy)):\n"
     ]
    }
   ],
   "source": [
    "# test set\n",
    "# 前処理の統合変数を使う\n",
    "df_test_x,df_test_id = preprocess_res(train_flg=False)\n",
    "y_pred = clf_res.predict(df_test_x)\n",
    "\n",
    "pred_df = pd.DataFrame(y_pred, index=df_test_id, columns=[\"PRICE\"])\n",
    "pred_df.to_csv('./output_res.csv', header=True, index_label='Id')"
   ]
  },
  {
   "cell_type": "code",
   "execution_count": 129,
   "metadata": {},
   "outputs": [
    {
     "name": "stderr",
     "output_type": "stream",
     "text": [
      "C:\\Users\\world\\Anaconda3\\lib\\site-packages\\IPython\\core\\interactiveshell.py:3248: DtypeWarning: Columns (17,18,19,20,21,22,23,32,33,34,36,42,44) have mixed types. Specify dtype option on import or set low_memory=False.\n",
      "  if (await self.run_code(code, result,  async_=asy)):\n"
     ]
    }
   ],
   "source": [
    "# test set\n",
    "# 前処理の統合変数を使う\n",
    "df_test_x,df_test_id = preprocess_con(train_flg=False)\n",
    "y_pred = clf_con.predict(df_test_x)\n",
    "\n",
    "pred_df = pd.DataFrame(y_pred, index=df_test_id, columns=[\"PRICE\"])\n",
    "pred_df.to_csv('./output_con.csv', header=True, index_label='Id')"
   ]
  },
  {
   "cell_type": "code",
   "execution_count": null,
   "metadata": {},
   "outputs": [],
   "source": []
  },
  {
   "cell_type": "code",
   "execution_count": null,
   "metadata": {},
   "outputs": [],
   "source": []
  },
  {
   "cell_type": "code",
   "execution_count": null,
   "metadata": {},
   "outputs": [],
   "source": []
  }
 ],
 "metadata": {
  "kernelspec": {
   "display_name": "Python 3",
   "language": "python",
   "name": "python3"
  },
  "language_info": {
   "codemirror_mode": {
    "name": "ipython",
    "version": 3
   },
   "file_extension": ".py",
   "mimetype": "text/x-python",
   "name": "python",
   "nbconvert_exporter": "python",
   "pygments_lexer": "ipython3",
   "version": "3.7.3"
  }
 },
 "nbformat": 4,
 "nbformat_minor": 2
}
