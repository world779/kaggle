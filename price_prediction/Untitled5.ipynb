{
 "cells": [
  {
   "cell_type": "code",
   "execution_count": 169,
   "metadata": {},
   "outputs": [],
   "source": [
    "# ライブラリの読み込み\n",
    "import os\n",
    "import scipy as sp\n",
    "import numpy as np\n",
    "import sklearn\n",
    "import pandas as pd\n",
    "import matplotlib.pyplot as plt\n",
    "import seaborn as sns\n",
    "import matplotlib.pyplot as plt\n",
    "from sklearn.linear_model import LinearRegression\n",
    "from sklearn.metrics import mean_squared_error\n",
    "from sklearn.model_selection import cross_val_score\n",
    "import category_encoders as ce\n",
    "from sklearn.preprocessing import StandardScaler\n",
    "# グラフをインラインで表示させる\n",
    "%matplotlib inline"
   ]
  },
  {
   "cell_type": "code",
   "execution_count": 170,
   "metadata": {},
   "outputs": [],
   "source": [
    "def preprocess(train_flg):\n",
    "    # train set の場合の処理\n",
    "    if train_flg:\n",
    "        df=pd.read_csv('./train_set.csv')\n",
    "        # 外れ値処理\n",
    "        df.drop(df[df['PRICE']>=4.0e7].index,inplace=True)\n",
    "        df.drop(df[df['PRICE']<=400].index,inplace=True)\n",
    "        df.drop(df[df['LIVING_GBA']>4000].index,inplace=True)\n",
    "        #リフォーム年が欠損している場合、築年数を入れる\n",
    "        df.loc[df[\"YR_RMDL\"].isnull(), \"YR_RMDL\"] = df[df[\"YR_RMDL\"].isnull()][\"AYB\"]\n",
    "        \n",
    "        # 訓練用targetデータ\n",
    "        df_y_cond = np.log(df[df['SOURCE']=='Condominium']['PRICE'])\n",
    "        df_y_resi = np.log(df[df['SOURCE']=='Residential']['PRICE'])\n",
    "    else:\n",
    "        df=pd.read_csv('./test_set.csv')\n",
    "        \n",
    "    df_cond = df[df['SOURCE']=='Condominium']\n",
    "    df_resi = df[df['SOURCE']=='Residential']\n",
    "    \n",
    "    # for Condominium\n",
    "    # 使う変数を定義\n",
    "    cols = ['LATITUDE','LONGITUDE', 'ROOMS','FIREPLACES','YR_RMDL','SALEDATE','LIVING_GBA']    \n",
    "    df_cond = df_cond.loc[:,cols]\n",
    "    # test, trainで共通の前処理\n",
    "    # 築年数　→ 販売日 - 建築年　に変換\n",
    "    df_cond.loc[:,'YR_RMDL'] = pd.to_datetime(df_cond['SALEDATE']).dt.year - df_cond['YR_RMDL'].values\n",
    "    df_cond.drop('SALEDATE', axis=1, inplace=True)\n",
    "    # 欠損値の置換\n",
    "    df_cond.loc[df_cond['YR_RMDL'].isnull(), 'YR_RMDL'] = df['YR_RMDL'].median()\n",
    "    \n",
    "    #df_cond.loc[df_cond['YR_RMDL'],] = np.where(df_cond.loc[df_cond['YR_RMDL'].isnull(), df['AYB']], df_cond.loc[df_cond['YR_RMDL']])\n",
    "    #df['AYB'.isnull(), 'AYB'] = df['AYB'].median()\n",
    "    #df_cond.loc[\"YR_RMDL\"] = np.where(df_cond.loc[\"YR_RMDL\"].isnull(), df_cond.loc[\"AYB\"], df_cond.loc[\"YR_RMDL\"])\n",
    "    # 異常値の変換\n",
    "    df_cond.loc[df_cond['YR_RMDL']<0, 'YR_RMDL'] = 0\n",
    "    # スケーリング\n",
    "    stdscaler = StandardScaler()\n",
    "    df_cond = stdscaler.fit_transform(df_cond)    \n",
    "    \n",
    "    \n",
    "    # for Residential\n",
    "    cols = ['LATITUDE','LONGITUDE', 'ROOMS','FIREPLACES','YR_RMDL','SALEDATE','GBA']    \n",
    "    df_resi = df_resi.loc[:,cols].copy()\n",
    "    # test, trainで共通の前処理\n",
    "    # 築年数　→ 販売日 - 建築年　に変換\n",
    "    df_resi.loc[:,'YR_RMDL'] = pd.to_datetime(df_resi['SALEDATE']).dt.year - df_resi['YR_RMDL'].values    \n",
    "    df_resi.drop('SALEDATE', axis=1, inplace=True)\n",
    "    # 欠損値の置換\n",
    "    df_resi.loc[df_resi['YR_RMDL'].isnull(), 'YR_RMDL'] = df_resi['YR_RMDL'].median()\n",
    "    # 異常値の変換\n",
    "    df_resi.loc[df_resi['YR_RMDL']<0, 'YR_RMDL'] = 0\n",
    "    #外れ値の処理\n",
    "    #df_resi.drop(df_resi[df_resi['ROOMS']>=20].index, inplace=True)\n",
    "    # スケーリング\n",
    "    stdscaler = StandardScaler()\n",
    "    df_resi = stdscaler.fit_transform(df_resi)    \n",
    "    \n",
    "    \n",
    "    # train set の場合のoutput\n",
    "    if train_flg:\n",
    "        return df_resi,df_y_resi,df_cond,df_y_cond\n",
    "    # test set の場合のoutput、kaggleへ提出するファイルの規定により、idも一緒に出力する\n",
    "    else:\n",
    "        return df_resi,df_cond,df['Id']\n",
    "\n",
    "def rmse(y_true, y_pred):\n",
    "    return np.sqrt(mean_squared_error(y_true, y_pred))\n",
    "    \n",
    "# cross validationのスコア表示\n",
    "def display_score(scores):\n",
    "    print(\"Scores:\", scores)\n",
    "    print(\"Mean:\", scores.mean())\n",
    "    print(\"Standard deviation:\", scores.std())"
   ]
  },
  {
   "cell_type": "code",
   "execution_count": 171,
   "metadata": {
    "scrolled": true
   },
   "outputs": [
    {
     "name": "stderr",
     "output_type": "stream",
     "text": [
      "C:\\Users\\world\\Anaconda3\\lib\\site-packages\\IPython\\core\\interactiveshell.py:3248: DtypeWarning: Columns (17,18,19,20,21,22,23,32,33,34,36,42,44) have mixed types. Specify dtype option on import or set low_memory=False.\n",
      "  if (await self.run_code(code, result,  async_=asy)):\n",
      "C:\\Users\\world\\Anaconda3\\lib\\site-packages\\sklearn\\ensemble\\forest.py:245: FutureWarning: The default value of n_estimators will change from 10 in version 0.20 to 100 in 0.22.\n",
      "  \"10 in version 0.20 to 100 in 0.22.\", FutureWarning)\n"
     ]
    },
    {
     "name": "stdout",
     "output_type": "stream",
     "text": [
      "--------resi-----------\n",
      "Scores: [0.74938211 0.64867648 0.56143321 0.50857377 0.68921696 0.59758866\n",
      " 0.56369182 0.64891035 0.62269539 0.71391247]\n",
      "Mean: 0.630408120516672\n",
      "Standard deviation: 0.07102897108175439\n",
      "--------cond-----------\n",
      "Scores: [0.90083512 0.64026772 0.56388953 0.83792589 0.72748856 0.49955235\n",
      " 0.72943059 0.54528109 0.52727986 0.59476707]\n",
      "Mean: 0.6566717777152188\n",
      "Standard deviation: 0.13012461504820785\n"
     ]
    }
   ],
   "source": [
    "from sklearn.ensemble import RandomForestRegressor\n",
    "#from sklearn.ensemble import RandomForestClassifier\n",
    "from sklearn.linear_model import LogisticRegression\n",
    "from sklearn.svm import SVC\n",
    "from sklearn.tree import DecisionTreeRegressor\n",
    "import xgboost as xgb\n",
    "from sklearn import  preprocessing, linear_model\n",
    "# train set\n",
    "# 前処理の統合変数を使う\n",
    "df_x_resi,df_y_resi,df_x_cond,df_y_cond = preprocess(train_flg=True)\n",
    "\n",
    "reg_resi = RandomForestRegressor()\n",
    "res_cond = RandomForestRegressor()\n",
    "#reg_resi = LinearRegression()\n",
    "#reg_cond = LinearRegression()\n",
    "# linear regressionで検証\n",
    "reg_resi.fit(df_x_resi, df_y_resi)\n",
    "reg_cond.fit(df_x_cond, df_y_cond)\n",
    "\n",
    "# 評価\n",
    "# rmse(clf.predict(df_x),df_y)\n",
    "# cross validationで評価\n",
    "print('--------resi-----------')\n",
    "scores = cross_val_score(reg_resi, df_x_resi, df_y_resi,\n",
    "                            scoring=\"neg_mean_squared_error\", cv=10)\n",
    "rmse_scores = np.sqrt(-scores)\n",
    "display_score(rmse_scores)\n",
    "\n",
    "print('--------cond-----------')\n",
    "scores = cross_val_score(reg_cond, df_x_cond, df_y_cond,\n",
    "                            scoring=\"neg_mean_squared_error\", cv=10)\n",
    "rmse_scores = np.sqrt(-scores)\n",
    "display_score(rmse_scores)"
   ]
  },
  {
   "cell_type": "code",
   "execution_count": null,
   "metadata": {
    "scrolled": true
   },
   "outputs": [],
   "source": []
  },
  {
   "cell_type": "code",
   "execution_count": null,
   "metadata": {},
   "outputs": [],
   "source": []
  },
  {
   "cell_type": "code",
   "execution_count": 172,
   "metadata": {},
   "outputs": [
    {
     "name": "stderr",
     "output_type": "stream",
     "text": [
      "C:\\Users\\world\\Anaconda3\\lib\\site-packages\\IPython\\core\\interactiveshell.py:3248: DtypeWarning: Columns (17,18,19,20,21,22,23,32,33,34,36,42,44) have mixed types. Specify dtype option on import or set low_memory=False.\n",
      "  if (await self.run_code(code, result,  async_=asy)):\n"
     ]
    }
   ],
   "source": [
    "# test set\n",
    "# 前処理の統合変数を使う\n",
    "df_x_resi,df_x_cond,df_test_id = preprocess(train_flg=False)\n",
    "\n",
    "resi_y_pred = np.exp(reg_resi.predict(df_x_resi))\n",
    "cond_y_pred = np.exp(reg_cond.predict(df_x_cond))\n",
    "\n",
    "pred_df = pd.DataFrame(np.concatenate((resi_y_pred,cond_y_pred),axis=0), index=df_test_id, columns=[\"PRICE\"])\n",
    "pred_df.to_csv('./output.csv', header=True, index_label='Id')"
   ]
  },
  {
   "cell_type": "code",
   "execution_count": null,
   "metadata": {},
   "outputs": [],
   "source": []
  },
  {
   "cell_type": "code",
   "execution_count": null,
   "metadata": {},
   "outputs": [],
   "source": []
  }
 ],
 "metadata": {
  "kernelspec": {
   "display_name": "Python 3",
   "language": "python",
   "name": "python3"
  },
  "language_info": {
   "codemirror_mode": {
    "name": "ipython",
    "version": 3
   },
   "file_extension": ".py",
   "mimetype": "text/x-python",
   "name": "python",
   "nbconvert_exporter": "python",
   "pygments_lexer": "ipython3",
   "version": "3.7.3"
  }
 },
 "nbformat": 4,
 "nbformat_minor": 2
}
