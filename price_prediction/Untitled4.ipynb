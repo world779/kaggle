{
 "cells": [
  {
   "cell_type": "code",
   "execution_count": 1,
   "metadata": {},
   "outputs": [],
   "source": [
    "# ライブラリの読み込み\n",
    "import os\n",
    "import scipy as sp\n",
    "import numpy as np\n",
    "import sklearn\n",
    "import pandas as pd\n",
    "import matplotlib.pyplot as plt\n",
    "import seaborn as sns\n",
    "import matplotlib.pyplot as plt\n",
    "from sklearn.linear_model import LinearRegression\n",
    "# グラフをインラインで表示させる\n",
    "%matplotlib inline"
   ]
  },
  {
   "cell_type": "code",
   "execution_count": 2,
   "metadata": {},
   "outputs": [],
   "source": [
    "def preprocess_res(train_flg):\n",
    "    # train set の場合の処理\n",
    "    if train_flg:\n",
    "        df=pd.read_csv('./train_set.csv')\n",
    "        df.drop(df[df['SOURCE']=='Condominium'].index,inplace=True)\n",
    "        df.drop(df[df['PRICE']>=40000000].index,inplace=True)\n",
    "        df.drop(df[df['YR_RMDL']<=100].index,inplace=True)\n",
    "        df_y = df['PRICE']\n",
    "    else:\n",
    "        df=pd.read_csv('./test_set.csv')\n",
    "        df.drop(df[df['SOURCE']=='Condominium'].index,inplace=True)\n",
    "    # 使う変数を定義\n",
    "    cols = ['CENSUS_TRACT','EYB','ROOMS','AC','FIREPLACES']\n",
    "    \n",
    "    df_x = df.loc[:,cols]\n",
    "    #欠損値　-> 'NA'　に変換\n",
    "    #df_x.loc[df_x['ZIPCODE'].isnull()==True,'ZIPCODE']=df_x['ZIPCODE'].median()\n",
    "    #df_x.loc[df_x['ROOMS'].isnull()==True,'ROOMS']=df_x['ROOMS'].median()\n",
    "    #df_x.loc[df_x['AC'].isnull()==True,'AC']='Y'\n",
    "    #df_x.loc[df_x['CENSUS_BLOCK'].isnull()==True,'CENSUS_BLOCK']=df_x['CENSUS_BLOCK'].median()\n",
    "    # dummy\n",
    "    df_x=pd.get_dummies(df_x)\n",
    "    # train set の場合のoutput\n",
    "    if train_flg:\n",
    "        return df_x,df_y\n",
    "    # test set の場合のoutput、kaggleへ提出するファイルの規定により、idも一緒に出力する\n",
    "    else:\n",
    "        return df_x,df['Id']"
   ]
  },
  {
   "cell_type": "code",
   "execution_count": 3,
   "metadata": {},
   "outputs": [],
   "source": [
    "def preprocess_con(train_flg):\n",
    "    # train set の場合の処理\n",
    "    if train_flg:\n",
    "        df=pd.read_csv('./train_set.csv')\n",
    "        df.drop(df[df['SOURCE']=='Residential'].index,inplace=True)\n",
    "        df.drop(df[df['PRICE']>=40000000].index,inplace=True)\n",
    "        df.drop(df[df['YR_RMDL']<=100].index,inplace=True)\n",
    "        df_y = df['PRICE']\n",
    "    else:\n",
    "        df=pd.read_csv('./test_set.csv')\n",
    "        df.drop(df[df['SOURCE']=='Residential'].index,inplace=True)\n",
    "    \n",
    "    # 使う変数を定義\n",
    "    cols = ['CENSUS_TRACT','ROOMS','AYB','FIREPLACES']\n",
    "    \n",
    "    df_x = df.loc[:,cols]\n",
    "    #欠損値　-> 'NA'　に変換\n",
    "    #df_x.loc[df_x['ZIPCODE'].isnull()==True,'ZIPCODE']=df_x['ZIPCODE'].median()\n",
    "    #df_x.loc[df_x['ROOMS'].isnull()==True,'ROOMS']=df_x['ROOMS'].median()\n",
    "    #df_x.loc[df_x['AC'].isnull()==True,'AC']='Y'\n",
    "    df_x.loc[df_x['AYB'].isnull()==True,'AYB']=df_x['AYB'].median()\n",
    "    #df_x.loc[df_x['CENSUS_BLOCK'].isnull()==True,'CENSUS_BLOCK']=df_x['CENSUS_BLOCK'].median()\n",
    "    # dummy\n",
    "    df_x=pd.get_dummies(df_x)\n",
    "    # train set の場合のoutput\n",
    "    if train_flg:\n",
    "        return df_x,df_y\n",
    "    # test set の場合のoutput、kaggleへ提出するファイルの規定により、idも一緒に出力する\n",
    "    else:\n",
    "        return df_x,df['Id']"
   ]
  },
  {
   "cell_type": "code",
   "execution_count": 4,
   "metadata": {},
   "outputs": [
    {
     "name": "stderr",
     "output_type": "stream",
     "text": [
      "C:\\Users\\world\\Anaconda3\\lib\\site-packages\\IPython\\core\\interactiveshell.py:3248: DtypeWarning: Columns (17,18,19,20,21,22,23,32,33,34,36,42,44) have mixed types. Specify dtype option on import or set low_memory=False.\n",
      "  if (await self.run_code(code, result,  async_=asy)):\n"
     ]
    },
    {
     "data": {
      "text/plain": [
       "494575.5739595503"
      ]
     },
     "execution_count": 4,
     "metadata": {},
     "output_type": "execute_result"
    }
   ],
   "source": [
    "# train set RESIDENTIAL\n",
    "clf_res =LinearRegression()\n",
    "# 前処理の統合変数を使う\n",
    "df_x,df_y = preprocess_res(train_flg=True)\n",
    "\n",
    "from sklearn.metrics import mean_squared_error\n",
    "def rmse(y_true, y_pred):\n",
    "    return np.sqrt(mean_squared_error(y_true, y_pred))\n",
    "\n",
    "# linear regressionで検証\n",
    "clf_res.fit(df_x, df_y)\n",
    "rmse(clf_res.predict(df_x),df_y)"
   ]
  },
  {
   "cell_type": "code",
   "execution_count": 5,
   "metadata": {},
   "outputs": [
    {
     "name": "stderr",
     "output_type": "stream",
     "text": [
      "C:\\Users\\world\\Anaconda3\\lib\\site-packages\\IPython\\core\\interactiveshell.py:3248: DtypeWarning: Columns (17,18,19,20,21,22,23,32,33,34,36,42,44) have mixed types. Specify dtype option on import or set low_memory=False.\n",
      "  if (await self.run_code(code, result,  async_=asy)):\n"
     ]
    },
    {
     "data": {
      "text/plain": [
       "685904.7972935518"
      ]
     },
     "execution_count": 5,
     "metadata": {},
     "output_type": "execute_result"
    }
   ],
   "source": [
    "#train set CONDMINIUM\n",
    "clf_con =LinearRegression()\n",
    "# 前処理の統合変数を使う\n",
    "df_x,df_y = preprocess_con(train_flg=True)\n",
    "\n",
    "from sklearn.metrics import mean_squared_error\n",
    "def rmse(y_true, y_pred):\n",
    "    return np.sqrt(mean_squared_error(y_true, y_pred))\n",
    "\n",
    "# linear regressionで検証\n",
    "clf_con.fit(df_x, df_y)\n",
    "rmse(clf_con.predict(df_x),df_y)"
   ]
  },
  {
   "cell_type": "code",
   "execution_count": 6,
   "metadata": {},
   "outputs": [
    {
     "name": "stderr",
     "output_type": "stream",
     "text": [
      "C:\\Users\\world\\Anaconda3\\lib\\site-packages\\IPython\\core\\interactiveshell.py:3248: DtypeWarning: Columns (17,18,19,20,21,22,23,32,33,34,36,42,44) have mixed types. Specify dtype option on import or set low_memory=False.\n",
      "  if (await self.run_code(code, result,  async_=asy)):\n"
     ]
    },
    {
     "ename": "PermissionError",
     "evalue": "[Errno 13] Permission denied: './output_res.csv'",
     "output_type": "error",
     "traceback": [
      "\u001b[1;31m---------------------------------------------------------------------------\u001b[0m",
      "\u001b[1;31mPermissionError\u001b[0m                           Traceback (most recent call last)",
      "\u001b[1;32m<ipython-input-6-8bdc98d176e3>\u001b[0m in \u001b[0;36m<module>\u001b[1;34m\u001b[0m\n\u001b[0;32m      5\u001b[0m \u001b[1;33m\u001b[0m\u001b[0m\n\u001b[0;32m      6\u001b[0m \u001b[0mpred_df\u001b[0m \u001b[1;33m=\u001b[0m \u001b[0mpd\u001b[0m\u001b[1;33m.\u001b[0m\u001b[0mDataFrame\u001b[0m\u001b[1;33m(\u001b[0m\u001b[0my_pred\u001b[0m\u001b[1;33m,\u001b[0m \u001b[0mindex\u001b[0m\u001b[1;33m=\u001b[0m\u001b[0mdf_test_id\u001b[0m\u001b[1;33m,\u001b[0m \u001b[0mcolumns\u001b[0m\u001b[1;33m=\u001b[0m\u001b[1;33m[\u001b[0m\u001b[1;34m\"PRICE\"\u001b[0m\u001b[1;33m]\u001b[0m\u001b[1;33m)\u001b[0m\u001b[1;33m\u001b[0m\u001b[1;33m\u001b[0m\u001b[0m\n\u001b[1;32m----> 7\u001b[1;33m \u001b[0mpred_df\u001b[0m\u001b[1;33m.\u001b[0m\u001b[0mto_csv\u001b[0m\u001b[1;33m(\u001b[0m\u001b[1;34m'./output_res.csv'\u001b[0m\u001b[1;33m,\u001b[0m \u001b[0mheader\u001b[0m\u001b[1;33m=\u001b[0m\u001b[1;32mTrue\u001b[0m\u001b[1;33m,\u001b[0m \u001b[0mindex_label\u001b[0m\u001b[1;33m=\u001b[0m\u001b[1;34m'Id'\u001b[0m\u001b[1;33m)\u001b[0m\u001b[1;33m\u001b[0m\u001b[1;33m\u001b[0m\u001b[0m\n\u001b[0m",
      "\u001b[1;32m~\\Anaconda3\\lib\\site-packages\\pandas\\core\\generic.py\u001b[0m in \u001b[0;36mto_csv\u001b[1;34m(self, path_or_buf, sep, na_rep, float_format, columns, header, index, index_label, mode, encoding, compression, quoting, quotechar, line_terminator, chunksize, tupleize_cols, date_format, doublequote, escapechar, decimal)\u001b[0m\n\u001b[0;32m   3018\u001b[0m                                  \u001b[0mdoublequote\u001b[0m\u001b[1;33m=\u001b[0m\u001b[0mdoublequote\u001b[0m\u001b[1;33m,\u001b[0m\u001b[1;33m\u001b[0m\u001b[1;33m\u001b[0m\u001b[0m\n\u001b[0;32m   3019\u001b[0m                                  escapechar=escapechar, decimal=decimal)\n\u001b[1;32m-> 3020\u001b[1;33m         \u001b[0mformatter\u001b[0m\u001b[1;33m.\u001b[0m\u001b[0msave\u001b[0m\u001b[1;33m(\u001b[0m\u001b[1;33m)\u001b[0m\u001b[1;33m\u001b[0m\u001b[1;33m\u001b[0m\u001b[0m\n\u001b[0m\u001b[0;32m   3021\u001b[0m \u001b[1;33m\u001b[0m\u001b[0m\n\u001b[0;32m   3022\u001b[0m         \u001b[1;32mif\u001b[0m \u001b[0mpath_or_buf\u001b[0m \u001b[1;32mis\u001b[0m \u001b[1;32mNone\u001b[0m\u001b[1;33m:\u001b[0m\u001b[1;33m\u001b[0m\u001b[1;33m\u001b[0m\u001b[0m\n",
      "\u001b[1;32m~\\Anaconda3\\lib\\site-packages\\pandas\\io\\formats\\csvs.py\u001b[0m in \u001b[0;36msave\u001b[1;34m(self)\u001b[0m\n\u001b[0;32m    155\u001b[0m             f, handles = _get_handle(self.path_or_buf, self.mode,\n\u001b[0;32m    156\u001b[0m                                      \u001b[0mencoding\u001b[0m\u001b[1;33m=\u001b[0m\u001b[0mself\u001b[0m\u001b[1;33m.\u001b[0m\u001b[0mencoding\u001b[0m\u001b[1;33m,\u001b[0m\u001b[1;33m\u001b[0m\u001b[1;33m\u001b[0m\u001b[0m\n\u001b[1;32m--> 157\u001b[1;33m                                      compression=self.compression)\n\u001b[0m\u001b[0;32m    158\u001b[0m             \u001b[0mclose\u001b[0m \u001b[1;33m=\u001b[0m \u001b[1;32mTrue\u001b[0m\u001b[1;33m\u001b[0m\u001b[1;33m\u001b[0m\u001b[0m\n\u001b[0;32m    159\u001b[0m \u001b[1;33m\u001b[0m\u001b[0m\n",
      "\u001b[1;32m~\\Anaconda3\\lib\\site-packages\\pandas\\io\\common.py\u001b[0m in \u001b[0;36m_get_handle\u001b[1;34m(path_or_buf, mode, encoding, compression, memory_map, is_text)\u001b[0m\n\u001b[0;32m    422\u001b[0m         \u001b[1;32melif\u001b[0m \u001b[0mencoding\u001b[0m\u001b[1;33m:\u001b[0m\u001b[1;33m\u001b[0m\u001b[1;33m\u001b[0m\u001b[0m\n\u001b[0;32m    423\u001b[0m             \u001b[1;31m# Python 3 and encoding\u001b[0m\u001b[1;33m\u001b[0m\u001b[1;33m\u001b[0m\u001b[1;33m\u001b[0m\u001b[0m\n\u001b[1;32m--> 424\u001b[1;33m             \u001b[0mf\u001b[0m \u001b[1;33m=\u001b[0m \u001b[0mopen\u001b[0m\u001b[1;33m(\u001b[0m\u001b[0mpath_or_buf\u001b[0m\u001b[1;33m,\u001b[0m \u001b[0mmode\u001b[0m\u001b[1;33m,\u001b[0m \u001b[0mencoding\u001b[0m\u001b[1;33m=\u001b[0m\u001b[0mencoding\u001b[0m\u001b[1;33m,\u001b[0m \u001b[0mnewline\u001b[0m\u001b[1;33m=\u001b[0m\u001b[1;34m\"\"\u001b[0m\u001b[1;33m)\u001b[0m\u001b[1;33m\u001b[0m\u001b[1;33m\u001b[0m\u001b[0m\n\u001b[0m\u001b[0;32m    425\u001b[0m         \u001b[1;32melif\u001b[0m \u001b[0mis_text\u001b[0m\u001b[1;33m:\u001b[0m\u001b[1;33m\u001b[0m\u001b[1;33m\u001b[0m\u001b[0m\n\u001b[0;32m    426\u001b[0m             \u001b[1;31m# Python 3 and no explicit encoding\u001b[0m\u001b[1;33m\u001b[0m\u001b[1;33m\u001b[0m\u001b[1;33m\u001b[0m\u001b[0m\n",
      "\u001b[1;31mPermissionError\u001b[0m: [Errno 13] Permission denied: './output_res.csv'"
     ]
    }
   ],
   "source": [
    "# test set\n",
    "# 前処理の統合変数を使う\n",
    "df_test_x,df_test_id = preprocess_res(train_flg=False)\n",
    "y_pred = clf_res.predict(df_test_x)\n",
    "\n",
    "pred_df = pd.DataFrame(y_pred, index=df_test_id, columns=[\"PRICE\"])\n",
    "pred_df.to_csv('./output_res.csv', header=True, index_label='Id')"
   ]
  },
  {
   "cell_type": "code",
   "execution_count": null,
   "metadata": {},
   "outputs": [],
   "source": []
  }
 ],
 "metadata": {
  "kernelspec": {
   "display_name": "Python 3",
   "language": "python",
   "name": "python3"
  },
  "language_info": {
   "codemirror_mode": {
    "name": "ipython",
    "version": 3
   },
   "file_extension": ".py",
   "mimetype": "text/x-python",
   "name": "python",
   "nbconvert_exporter": "python",
   "pygments_lexer": "ipython3",
   "version": "3.7.3"
  }
 },
 "nbformat": 4,
 "nbformat_minor": 2
}
